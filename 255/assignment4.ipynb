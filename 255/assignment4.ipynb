{
 "cells": [
  {
   "cell_type": "code",
   "id": "initial_id",
   "metadata": {
    "collapsed": true,
    "ExecuteTime": {
     "end_time": "2025-03-29T08:51:06.375866Z",
     "start_time": "2025-03-29T08:51:06.367265Z"
    }
   },
   "source": [
    "# define P and Q\n",
    "P = [True, True, False, False]\n",
    "Q = [True, False, True, False]"
   ],
   "outputs": [],
   "execution_count": 1
  },
  {
   "metadata": {
    "ExecuteTime": {
     "end_time": "2025-03-29T09:18:41.639142Z",
     "start_time": "2025-03-29T09:18:41.631810Z"
    }
   },
   "cell_type": "code",
   "source": [
    "# compute P->Q\n",
    "# expecting True, False, True, True\n",
    "P_Q = []\n",
    "for i in range(len(P)):\n",
    "    if not P[i] or Q[i]:\n",
    "        P_Q.append(True)\n",
    "    else:\n",
    "        P_Q.append(False)\n",
    "print(P_Q)"
   ],
   "id": "7e2ccf618823f9da",
   "outputs": [
    {
     "name": "stdout",
     "output_type": "stream",
     "text": [
      "[True, False, True, True]\n"
     ]
    }
   ],
   "execution_count": 4
  },
  {
   "metadata": {
    "ExecuteTime": {
     "end_time": "2025-03-29T09:21:05.197663Z",
     "start_time": "2025-03-29T09:21:05.192263Z"
    }
   },
   "cell_type": "code",
   "source": [
    "# compute !Q\n",
    "# expecting False, True, False, True\n",
    "not_Q = []\n",
    "for i in range(len(Q)):\n",
    "    not_Q.append(not Q[i])\n",
    "print(not_Q)"
   ],
   "id": "2f595eb6ce9d3856",
   "outputs": [
    {
     "name": "stdout",
     "output_type": "stream",
     "text": [
      "[False, True, False, True]\n"
     ]
    }
   ],
   "execution_count": 8
  },
  {
   "metadata": {
    "ExecuteTime": {
     "end_time": "2025-03-29T09:21:06.420502Z",
     "start_time": "2025-03-29T09:21:06.412357Z"
    }
   },
   "cell_type": "code",
   "source": [
    "# compute !P\n",
    "# expecting False, False, True, True\n",
    "not_P = []\n",
    "for i in range(len(P)):\n",
    "    not_P.append(not P[i])\n",
    "print(not_P)"
   ],
   "id": "f5eb919c8d9db228",
   "outputs": [
    {
     "name": "stdout",
     "output_type": "stream",
     "text": [
      "[False, False, True, True]\n"
     ]
    }
   ],
   "execution_count": 9
  },
  {
   "metadata": {
    "ExecuteTime": {
     "end_time": "2025-03-29T09:24:25.198745Z",
     "start_time": "2025-03-29T09:24:25.190629Z"
    }
   },
   "cell_type": "code",
   "source": [
    "# compute !Q->!P\n",
    "# expecting True, False, True, True\n",
    "not_QP = []\n",
    "for i in range(len(not_Q)):\n",
    "    not_QP.append(not not_Q[i] or not_P[i])\n",
    "print(not_QP)"
   ],
   "id": "8e6477a3982e9dda",
   "outputs": [
    {
     "name": "stdout",
     "output_type": "stream",
     "text": [
      "[True, False, True, True]\n"
     ]
    }
   ],
   "execution_count": 10
  }
 ],
 "metadata": {
  "kernelspec": {
   "display_name": "Python 3",
   "language": "python",
   "name": "python3"
  },
  "language_info": {
   "codemirror_mode": {
    "name": "ipython",
    "version": 2
   },
   "file_extension": ".py",
   "mimetype": "text/x-python",
   "name": "python",
   "nbconvert_exporter": "python",
   "pygments_lexer": "ipython2",
   "version": "2.7.6"
  }
 },
 "nbformat": 4,
 "nbformat_minor": 5
}
