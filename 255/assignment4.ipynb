{
 "cells": [
  {
   "metadata": {},
   "cell_type": "code",
   "outputs": [],
   "execution_count": null,
   "source": [
    "# define P and Q truth tables\n",
    "P = [True, True, False, False]\n",
    "Q = [True, False, True, False]"
   ],
   "id": "1893bbc364129180"
  },
  {
   "metadata": {
    "ExecuteTime": {
     "end_time": "2025-03-30T00:18:33.515239Z",
     "start_time": "2025-03-30T00:18:33.511127Z"
    }
   },
   "cell_type": "code",
   "source": [
    "# create a function to find P->Q\n",
    "# if P then Q\n",
    "def p_then_q(p, q):\n",
    "    if p == q:\n",
    "        return True\n",
    "    elif q:\n",
    "        return True\n",
    "    else:\n",
    "        return False"
   ],
   "id": "7eafb375659664c4",
   "outputs": [],
   "execution_count": 25
  },
  {
   "metadata": {
    "ExecuteTime": {
     "end_time": "2025-03-30T00:18:34.961173Z",
     "start_time": "2025-03-30T00:18:34.947413Z"
    }
   },
   "cell_type": "code",
   "source": [
    "# test it\n",
    "P_then_Q = []\n",
    "for i in range(4):\n",
    "    P_then_Q.append(p_then_q(P[i], Q[i]))\n",
    "print(P_then_Q)"
   ],
   "id": "941057a12bab21e9",
   "outputs": [
    {
     "name": "stdout",
     "output_type": "stream",
     "text": [
      "[True, False, True, True]\n"
     ]
    }
   ],
   "execution_count": 26
  },
  {
   "metadata": {
    "ExecuteTime": {
     "end_time": "2025-03-30T00:20:38.519912Z",
     "start_time": "2025-03-30T00:20:38.514909Z"
    }
   },
   "cell_type": "code",
   "source": [
    "# create a function that returns the converse Q->P\n",
    "# if Q then P\n",
    "def converse(p, q):\n",
    "    if q == p:\n",
    "        return True\n",
    "    elif p:\n",
    "        return True\n",
    "    else:\n",
    "        return False"
   ],
   "id": "98204fcb8c3f5932",
   "outputs": [],
   "execution_count": 27
  },
  {
   "metadata": {
    "ExecuteTime": {
     "end_time": "2025-03-30T00:21:27.311789Z",
     "start_time": "2025-03-30T00:21:27.306268Z"
    }
   },
   "cell_type": "code",
   "source": [
    "# test it\n",
    "Q_then_P = []\n",
    "for i in range(4):\n",
    "    Q_then_P.append(converse(P[i], Q[i]))\n",
    "print(Q_then_P)"
   ],
   "id": "ab701ecff16f9c64",
   "outputs": [
    {
     "name": "stdout",
     "output_type": "stream",
     "text": [
      "[True, True, False, True]\n"
     ]
    }
   ],
   "execution_count": 29
  },
  {
   "metadata": {
    "ExecuteTime": {
     "end_time": "2025-03-30T00:24:02.408532Z",
     "start_time": "2025-03-30T00:24:02.404155Z"
    }
   },
   "cell_type": "code",
   "source": [
    "# create a function that returns the inverse !P->!Q\n",
    "# if not P then not Q\n",
    "def inverse(p, q):\n",
    "    if (not p) == (not q):\n",
    "        return True\n",
    "    elif not q:\n",
    "        return True\n",
    "    else:\n",
    "        return False"
   ],
   "id": "16ec1efaa42ca19d",
   "outputs": [],
   "execution_count": 30
  },
  {
   "metadata": {
    "ExecuteTime": {
     "end_time": "2025-03-30T00:24:42.523133Z",
     "start_time": "2025-03-30T00:24:42.511646Z"
    }
   },
   "cell_type": "code",
   "source": [
    "# test it\n",
    "notP_then_notQ = []\n",
    "for i in range(4):\n",
    "    notP_then_notQ.append(inverse(P[i], Q[i]))\n",
    "print(notP_then_notQ)"
   ],
   "id": "af7ba50be36207a0",
   "outputs": [
    {
     "name": "stdout",
     "output_type": "stream",
     "text": [
      "[True, True, False, True]\n"
     ]
    }
   ],
   "execution_count": 32
  },
  {
   "metadata": {
    "ExecuteTime": {
     "end_time": "2025-03-30T00:57:14.358149Z",
     "start_time": "2025-03-30T00:57:14.352163Z"
    }
   },
   "cell_type": "code",
   "source": [
    "# create a function that returns the contrapostive !Q->!P\n",
    "# if not Q then not P\n",
    "def contrapositive(p, q):\n",
    "    if (not q) == (not p):\n",
    "        return True\n",
    "    elif not p:\n",
    "        return True\n",
    "    else:\n",
    "        return False"
   ],
   "id": "e79de889faeb5aca",
   "outputs": [],
   "execution_count": 44
  },
  {
   "metadata": {
    "ExecuteTime": {
     "end_time": "2025-03-30T00:26:39.007707Z",
     "start_time": "2025-03-30T00:26:38.995543Z"
    }
   },
   "cell_type": "code",
   "source": [
    "# test it\n",
    "notQ_then_notP = []\n",
    "for i in range(4):\n",
    "    notQ_then_notP.append(contrapositive(P[i], Q[i]))\n",
    "print(notQ_then_notP)"
   ],
   "id": "adbef1341a221ca9",
   "outputs": [
    {
     "name": "stdout",
     "output_type": "stream",
     "text": [
      "[True, False, True, True]\n"
     ]
    }
   ],
   "execution_count": 35
  },
  {
   "metadata": {
    "ExecuteTime": {
     "end_time": "2025-03-30T01:04:38.651790Z",
     "start_time": "2025-03-30T01:04:38.644506Z"
    }
   },
   "cell_type": "code",
   "source": [
    "# now let's try it in a practical sense\n",
    "# if i cooked food, i can eat\n",
    "cooked_food = True\n",
    "can_eat = True\n",
    "# contrapositive is if i can't eat, i didn't cook food\n",
    "# check if the conditional matches the contrapositive (they should match)\n",
    "condit = p_then_q(cooked_food, can_eat)\n",
    "contra = contrapositive(cooked_food, can_eat)\n",
    "print(condit, contra)"
   ],
   "id": "436228712242b47e",
   "outputs": [
    {
     "name": "stdout",
     "output_type": "stream",
     "text": [
      "True True\n"
     ]
    }
   ],
   "execution_count": 47
  },
  {
   "metadata": {
    "ExecuteTime": {
     "end_time": "2025-03-30T01:03:26.205649Z",
     "start_time": "2025-03-30T01:03:26.190959Z"
    }
   },
   "cell_type": "code",
   "source": [
    "# let's try another\n",
    "# if i have glasses, then i don't have 2020 vision\n",
    "has_glasses = True\n",
    "has_2020 = False\n",
    "# contrapositive is if i have 2020 vision, i don't have glasses\n",
    "# check if the conditional matches the contrapositive (they should match)\n",
    "condit = p_then_q(has_glasses, has_2020)\n",
    "contra = contrapositive(has_glasses, has_2020)\n",
    "print(condit, contra)"
   ],
   "id": "e355c8aeae9cf1de",
   "outputs": [
    {
     "name": "stdout",
     "output_type": "stream",
     "text": [
      "False False\n"
     ]
    }
   ],
   "execution_count": 46
  },
  {
   "metadata": {
    "ExecuteTime": {
     "end_time": "2025-03-30T01:09:28.988329Z",
     "start_time": "2025-03-30T01:09:28.969736Z"
    }
   },
   "cell_type": "code",
   "source": [
    "# try another\n",
    "# if i don't study, i fail the class\n",
    "studied = False\n",
    "passed = False\n",
    "# contrapositive is if i passed the class, i must have studied\n",
    "# check if the conditional matches the contrapositive (they should match)\n",
    "condit = p_then_q(studied, passed)\n",
    "contra = contrapositive(studied, passed)\n",
    "print(condit, contra)"
   ],
   "id": "6c5b441795ca3cfd",
   "outputs": [
    {
     "name": "stdout",
     "output_type": "stream",
     "text": [
      "True True\n"
     ]
    }
   ],
   "execution_count": 49
  }
 ],
 "metadata": {
  "kernelspec": {
   "display_name": "Python 3",
   "language": "python",
   "name": "python3"
  },
  "language_info": {
   "codemirror_mode": {
    "name": "ipython",
    "version": 2
   },
   "file_extension": ".py",
   "mimetype": "text/x-python",
   "name": "python",
   "nbconvert_exporter": "python",
   "pygments_lexer": "ipython2",
   "version": "2.7.6"
  }
 },
 "nbformat": 4,
 "nbformat_minor": 5
}
